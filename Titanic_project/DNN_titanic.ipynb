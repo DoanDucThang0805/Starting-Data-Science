{
 "cells": [
  {
   "cell_type": "code",
   "execution_count": 1,
   "metadata": {},
   "outputs": [],
   "source": [
    "import pandas as pd\n",
    "import numpy as np\n",
    "import matplotlib.pyplot as plt\n",
    "import seaborn as sns\n",
    "import category_encoders as ce"
   ]
  },
  {
   "cell_type": "code",
   "execution_count": 2,
   "metadata": {},
   "outputs": [],
   "source": [
    "df = pd.read_csv(\"E:\\Starting-Data-Science\\Titanic_project/titanic/train.csv\")"
   ]
  },
  {
   "cell_type": "code",
   "execution_count": 3,
   "metadata": {},
   "outputs": [
    {
     "data": {
      "text/html": [
       "<div>\n",
       "<style scoped>\n",
       "    .dataframe tbody tr th:only-of-type {\n",
       "        vertical-align: middle;\n",
       "    }\n",
       "\n",
       "    .dataframe tbody tr th {\n",
       "        vertical-align: top;\n",
       "    }\n",
       "\n",
       "    .dataframe thead th {\n",
       "        text-align: right;\n",
       "    }\n",
       "</style>\n",
       "<table border=\"1\" class=\"dataframe\">\n",
       "  <thead>\n",
       "    <tr style=\"text-align: right;\">\n",
       "      <th></th>\n",
       "      <th>PassengerId</th>\n",
       "      <th>Survived</th>\n",
       "      <th>Pclass</th>\n",
       "      <th>Name</th>\n",
       "      <th>Sex</th>\n",
       "      <th>Age</th>\n",
       "      <th>SibSp</th>\n",
       "      <th>Parch</th>\n",
       "      <th>Ticket</th>\n",
       "      <th>Fare</th>\n",
       "      <th>Cabin</th>\n",
       "      <th>Embarked</th>\n",
       "    </tr>\n",
       "  </thead>\n",
       "  <tbody>\n",
       "    <tr>\n",
       "      <th>0</th>\n",
       "      <td>1</td>\n",
       "      <td>0</td>\n",
       "      <td>3</td>\n",
       "      <td>Braund, Mr. Owen Harris</td>\n",
       "      <td>male</td>\n",
       "      <td>22.0</td>\n",
       "      <td>1</td>\n",
       "      <td>0</td>\n",
       "      <td>A/5 21171</td>\n",
       "      <td>7.2500</td>\n",
       "      <td>NaN</td>\n",
       "      <td>S</td>\n",
       "    </tr>\n",
       "    <tr>\n",
       "      <th>1</th>\n",
       "      <td>2</td>\n",
       "      <td>1</td>\n",
       "      <td>1</td>\n",
       "      <td>Cumings, Mrs. John Bradley (Florence Briggs Th...</td>\n",
       "      <td>female</td>\n",
       "      <td>38.0</td>\n",
       "      <td>1</td>\n",
       "      <td>0</td>\n",
       "      <td>PC 17599</td>\n",
       "      <td>71.2833</td>\n",
       "      <td>C85</td>\n",
       "      <td>C</td>\n",
       "    </tr>\n",
       "    <tr>\n",
       "      <th>2</th>\n",
       "      <td>3</td>\n",
       "      <td>1</td>\n",
       "      <td>3</td>\n",
       "      <td>Heikkinen, Miss. Laina</td>\n",
       "      <td>female</td>\n",
       "      <td>26.0</td>\n",
       "      <td>0</td>\n",
       "      <td>0</td>\n",
       "      <td>STON/O2. 3101282</td>\n",
       "      <td>7.9250</td>\n",
       "      <td>NaN</td>\n",
       "      <td>S</td>\n",
       "    </tr>\n",
       "    <tr>\n",
       "      <th>3</th>\n",
       "      <td>4</td>\n",
       "      <td>1</td>\n",
       "      <td>1</td>\n",
       "      <td>Futrelle, Mrs. Jacques Heath (Lily May Peel)</td>\n",
       "      <td>female</td>\n",
       "      <td>35.0</td>\n",
       "      <td>1</td>\n",
       "      <td>0</td>\n",
       "      <td>113803</td>\n",
       "      <td>53.1000</td>\n",
       "      <td>C123</td>\n",
       "      <td>S</td>\n",
       "    </tr>\n",
       "    <tr>\n",
       "      <th>4</th>\n",
       "      <td>5</td>\n",
       "      <td>0</td>\n",
       "      <td>3</td>\n",
       "      <td>Allen, Mr. William Henry</td>\n",
       "      <td>male</td>\n",
       "      <td>35.0</td>\n",
       "      <td>0</td>\n",
       "      <td>0</td>\n",
       "      <td>373450</td>\n",
       "      <td>8.0500</td>\n",
       "      <td>NaN</td>\n",
       "      <td>S</td>\n",
       "    </tr>\n",
       "  </tbody>\n",
       "</table>\n",
       "</div>"
      ],
      "text/plain": [
       "   PassengerId  Survived  Pclass  \\\n",
       "0            1         0       3   \n",
       "1            2         1       1   \n",
       "2            3         1       3   \n",
       "3            4         1       1   \n",
       "4            5         0       3   \n",
       "\n",
       "                                                Name     Sex   Age  SibSp  \\\n",
       "0                            Braund, Mr. Owen Harris    male  22.0      1   \n",
       "1  Cumings, Mrs. John Bradley (Florence Briggs Th...  female  38.0      1   \n",
       "2                             Heikkinen, Miss. Laina  female  26.0      0   \n",
       "3       Futrelle, Mrs. Jacques Heath (Lily May Peel)  female  35.0      1   \n",
       "4                           Allen, Mr. William Henry    male  35.0      0   \n",
       "\n",
       "   Parch            Ticket     Fare Cabin Embarked  \n",
       "0      0         A/5 21171   7.2500   NaN        S  \n",
       "1      0          PC 17599  71.2833   C85        C  \n",
       "2      0  STON/O2. 3101282   7.9250   NaN        S  \n",
       "3      0            113803  53.1000  C123        S  \n",
       "4      0            373450   8.0500   NaN        S  "
      ]
     },
     "execution_count": 3,
     "metadata": {},
     "output_type": "execute_result"
    }
   ],
   "source": [
    "df.head()"
   ]
  },
  {
   "cell_type": "code",
   "execution_count": 4,
   "metadata": {},
   "outputs": [
    {
     "name": "stdout",
     "output_type": "stream",
     "text": [
      "<class 'pandas.core.frame.DataFrame'>\n",
      "RangeIndex: 891 entries, 0 to 890\n",
      "Data columns (total 12 columns):\n",
      " #   Column       Non-Null Count  Dtype  \n",
      "---  ------       --------------  -----  \n",
      " 0   PassengerId  891 non-null    int64  \n",
      " 1   Survived     891 non-null    int64  \n",
      " 2   Pclass       891 non-null    int64  \n",
      " 3   Name         891 non-null    object \n",
      " 4   Sex          891 non-null    object \n",
      " 5   Age          714 non-null    float64\n",
      " 6   SibSp        891 non-null    int64  \n",
      " 7   Parch        891 non-null    int64  \n",
      " 8   Ticket       891 non-null    object \n",
      " 9   Fare         891 non-null    float64\n",
      " 10  Cabin        204 non-null    object \n",
      " 11  Embarked     889 non-null    object \n",
      "dtypes: float64(2), int64(5), object(5)\n",
      "memory usage: 83.7+ KB\n"
     ]
    }
   ],
   "source": [
    "df.info()"
   ]
  },
  {
   "cell_type": "code",
   "execution_count": 5,
   "metadata": {},
   "outputs": [
    {
     "data": {
      "text/plain": [
       "PassengerId      0\n",
       "Survived         0\n",
       "Pclass           0\n",
       "Name             0\n",
       "Sex              0\n",
       "Age            177\n",
       "SibSp            0\n",
       "Parch            0\n",
       "Ticket           0\n",
       "Fare             0\n",
       "Cabin          687\n",
       "Embarked         2\n",
       "dtype: int64"
      ]
     },
     "execution_count": 5,
     "metadata": {},
     "output_type": "execute_result"
    }
   ],
   "source": [
    "df.isnull().sum()"
   ]
  },
  {
   "cell_type": "code",
   "execution_count": 6,
   "metadata": {},
   "outputs": [],
   "source": [
    "df1 = df.copy()"
   ]
  },
  {
   "cell_type": "code",
   "execution_count": 7,
   "metadata": {},
   "outputs": [],
   "source": [
    "drop = [\"Name\", \"Ticket\", \"Cabin\", \"PassengerId\"]"
   ]
  },
  {
   "cell_type": "code",
   "execution_count": 8,
   "metadata": {},
   "outputs": [],
   "source": [
    "df1.drop(drop, axis= 1, inplace= True)"
   ]
  },
  {
   "cell_type": "code",
   "execution_count": 9,
   "metadata": {},
   "outputs": [
    {
     "data": {
      "text/html": [
       "<div>\n",
       "<style scoped>\n",
       "    .dataframe tbody tr th:only-of-type {\n",
       "        vertical-align: middle;\n",
       "    }\n",
       "\n",
       "    .dataframe tbody tr th {\n",
       "        vertical-align: top;\n",
       "    }\n",
       "\n",
       "    .dataframe thead th {\n",
       "        text-align: right;\n",
       "    }\n",
       "</style>\n",
       "<table border=\"1\" class=\"dataframe\">\n",
       "  <thead>\n",
       "    <tr style=\"text-align: right;\">\n",
       "      <th></th>\n",
       "      <th>Survived</th>\n",
       "      <th>Pclass</th>\n",
       "      <th>Sex</th>\n",
       "      <th>Age</th>\n",
       "      <th>SibSp</th>\n",
       "      <th>Parch</th>\n",
       "      <th>Fare</th>\n",
       "      <th>Embarked</th>\n",
       "    </tr>\n",
       "  </thead>\n",
       "  <tbody>\n",
       "    <tr>\n",
       "      <th>0</th>\n",
       "      <td>0</td>\n",
       "      <td>3</td>\n",
       "      <td>male</td>\n",
       "      <td>22.0</td>\n",
       "      <td>1</td>\n",
       "      <td>0</td>\n",
       "      <td>7.2500</td>\n",
       "      <td>S</td>\n",
       "    </tr>\n",
       "    <tr>\n",
       "      <th>1</th>\n",
       "      <td>1</td>\n",
       "      <td>1</td>\n",
       "      <td>female</td>\n",
       "      <td>38.0</td>\n",
       "      <td>1</td>\n",
       "      <td>0</td>\n",
       "      <td>71.2833</td>\n",
       "      <td>C</td>\n",
       "    </tr>\n",
       "    <tr>\n",
       "      <th>2</th>\n",
       "      <td>1</td>\n",
       "      <td>3</td>\n",
       "      <td>female</td>\n",
       "      <td>26.0</td>\n",
       "      <td>0</td>\n",
       "      <td>0</td>\n",
       "      <td>7.9250</td>\n",
       "      <td>S</td>\n",
       "    </tr>\n",
       "    <tr>\n",
       "      <th>3</th>\n",
       "      <td>1</td>\n",
       "      <td>1</td>\n",
       "      <td>female</td>\n",
       "      <td>35.0</td>\n",
       "      <td>1</td>\n",
       "      <td>0</td>\n",
       "      <td>53.1000</td>\n",
       "      <td>S</td>\n",
       "    </tr>\n",
       "    <tr>\n",
       "      <th>4</th>\n",
       "      <td>0</td>\n",
       "      <td>3</td>\n",
       "      <td>male</td>\n",
       "      <td>35.0</td>\n",
       "      <td>0</td>\n",
       "      <td>0</td>\n",
       "      <td>8.0500</td>\n",
       "      <td>S</td>\n",
       "    </tr>\n",
       "  </tbody>\n",
       "</table>\n",
       "</div>"
      ],
      "text/plain": [
       "   Survived  Pclass     Sex   Age  SibSp  Parch     Fare Embarked\n",
       "0         0       3    male  22.0      1      0   7.2500        S\n",
       "1         1       1  female  38.0      1      0  71.2833        C\n",
       "2         1       3  female  26.0      0      0   7.9250        S\n",
       "3         1       1  female  35.0      1      0  53.1000        S\n",
       "4         0       3    male  35.0      0      0   8.0500        S"
      ]
     },
     "execution_count": 9,
     "metadata": {},
     "output_type": "execute_result"
    }
   ],
   "source": [
    "df1.head()"
   ]
  },
  {
   "cell_type": "code",
   "execution_count": 10,
   "metadata": {},
   "outputs": [
    {
     "data": {
      "text/plain": [
       "Survived      0\n",
       "Pclass        0\n",
       "Sex           0\n",
       "Age         177\n",
       "SibSp         0\n",
       "Parch         0\n",
       "Fare          0\n",
       "Embarked      2\n",
       "dtype: int64"
      ]
     },
     "execution_count": 10,
     "metadata": {},
     "output_type": "execute_result"
    }
   ],
   "source": [
    "df1.isna().sum()"
   ]
  },
  {
   "cell_type": "code",
   "execution_count": 11,
   "metadata": {},
   "outputs": [],
   "source": [
    "df2 = df1.copy()"
   ]
  },
  {
   "cell_type": "code",
   "execution_count": 12,
   "metadata": {},
   "outputs": [],
   "source": [
    "df2[\"Age\"].fillna(df2[\"Age\"].median(), inplace= True)\n",
    "df2[\"Embarked\"].fillna(df2[\"Embarked\"].mode()[0], inplace= True)"
   ]
  },
  {
   "cell_type": "code",
   "execution_count": 13,
   "metadata": {},
   "outputs": [
    {
     "data": {
      "text/plain": [
       "Survived    0\n",
       "Pclass      0\n",
       "Sex         0\n",
       "Age         0\n",
       "SibSp       0\n",
       "Parch       0\n",
       "Fare        0\n",
       "Embarked    0\n",
       "dtype: int64"
      ]
     },
     "execution_count": 13,
     "metadata": {},
     "output_type": "execute_result"
    }
   ],
   "source": [
    "df2.isnull().sum()"
   ]
  },
  {
   "cell_type": "code",
   "execution_count": 14,
   "metadata": {},
   "outputs": [],
   "source": [
    "iqr_25 = np.quantile(df2[\"Fare\"], 0.25)\n",
    "iqr_75 = np.quantile(df2[\"Fare\"], 0.75)\n",
    "iqr = iqr_75 - iqr_25\n",
    "limit = 1.5 * iqr\n",
    "lower = iqr_25 - limit\n",
    "upper = iqr_75 + limit\n",
    "df_iqr = df2[((df2[\"Fare\"]) > lower) & (df2[\"Fare\"] < upper)]"
   ]
  },
  {
   "cell_type": "code",
   "execution_count": 15,
   "metadata": {},
   "outputs": [],
   "source": [
    "iqr_25 = np.quantile(df2[\"Age\"], 0.25)\n",
    "iqr_75 = np.quantile(df2[\"Age\"], 0.75)\n",
    "iqr = iqr_75 - iqr_25\n",
    "limit = 1.5 * iqr\n",
    "lower = iqr_25 - limit\n",
    "upper = iqr_75 + limit\n",
    "df_iqr = df2[((df2[\"Age\"]) > lower) & (df2[\"Age\"] < upper)]"
   ]
  },
  {
   "cell_type": "code",
   "execution_count": 16,
   "metadata": {},
   "outputs": [
    {
     "data": {
      "text/plain": [
       "<Axes: >"
      ]
     },
     "execution_count": 16,
     "metadata": {},
     "output_type": "execute_result"
    },
    {
     "data": {
      "image/png": "[encoded data removed]",
      "text/plain": [
       "<Figure size 640x480 with 1 Axes>"
      ]
     },
     "metadata": {},
     "output_type": "display_data"
    }
   ],
   "source": [
    "sns.boxplot(data= df_iqr)"
   ]
  },
  {
   "cell_type": "code",
   "execution_count": 17,
   "metadata": {},
   "outputs": [
    {
     "data": {
      "text/html": [
       "<div>\n",
       "<style scoped>\n",
       "    .dataframe tbody tr th:only-of-type {\n",
       "        vertical-align: middle;\n",
       "    }\n",
       "\n",
       "    .dataframe tbody tr th {\n",
       "        vertical-align: top;\n",
       "    }\n",
       "\n",
       "    .dataframe thead th {\n",
       "        text-align: right;\n",
       "    }\n",
       "</style>\n",
       "<table border=\"1\" class=\"dataframe\">\n",
       "  <thead>\n",
       "    <tr style=\"text-align: right;\">\n",
       "      <th></th>\n",
       "      <th>Survived</th>\n",
       "      <th>Pclass</th>\n",
       "      <th>Sex</th>\n",
       "      <th>Age</th>\n",
       "      <th>SibSp</th>\n",
       "      <th>Parch</th>\n",
       "      <th>Fare</th>\n",
       "      <th>Embarked</th>\n",
       "    </tr>\n",
       "  </thead>\n",
       "  <tbody>\n",
       "    <tr>\n",
       "      <th>0</th>\n",
       "      <td>0</td>\n",
       "      <td>3</td>\n",
       "      <td>male</td>\n",
       "      <td>22.0</td>\n",
       "      <td>1</td>\n",
       "      <td>0</td>\n",
       "      <td>7.2500</td>\n",
       "      <td>S</td>\n",
       "    </tr>\n",
       "    <tr>\n",
       "      <th>1</th>\n",
       "      <td>1</td>\n",
       "      <td>1</td>\n",
       "      <td>female</td>\n",
       "      <td>38.0</td>\n",
       "      <td>1</td>\n",
       "      <td>0</td>\n",
       "      <td>71.2833</td>\n",
       "      <td>C</td>\n",
       "    </tr>\n",
       "    <tr>\n",
       "      <th>2</th>\n",
       "      <td>1</td>\n",
       "      <td>3</td>\n",
       "      <td>female</td>\n",
       "      <td>26.0</td>\n",
       "      <td>0</td>\n",
       "      <td>0</td>\n",
       "      <td>7.9250</td>\n",
       "      <td>S</td>\n",
       "    </tr>\n",
       "    <tr>\n",
       "      <th>3</th>\n",
       "      <td>1</td>\n",
       "      <td>1</td>\n",
       "      <td>female</td>\n",
       "      <td>35.0</td>\n",
       "      <td>1</td>\n",
       "      <td>0</td>\n",
       "      <td>53.1000</td>\n",
       "      <td>S</td>\n",
       "    </tr>\n",
       "    <tr>\n",
       "      <th>4</th>\n",
       "      <td>0</td>\n",
       "      <td>3</td>\n",
       "      <td>male</td>\n",
       "      <td>35.0</td>\n",
       "      <td>0</td>\n",
       "      <td>0</td>\n",
       "      <td>8.0500</td>\n",
       "      <td>S</td>\n",
       "    </tr>\n",
       "    <tr>\n",
       "      <th>...</th>\n",
       "      <td>...</td>\n",
       "      <td>...</td>\n",
       "      <td>...</td>\n",
       "      <td>...</td>\n",
       "      <td>...</td>\n",
       "      <td>...</td>\n",
       "      <td>...</td>\n",
       "      <td>...</td>\n",
       "    </tr>\n",
       "    <tr>\n",
       "      <th>886</th>\n",
       "      <td>0</td>\n",
       "      <td>2</td>\n",
       "      <td>male</td>\n",
       "      <td>27.0</td>\n",
       "      <td>0</td>\n",
       "      <td>0</td>\n",
       "      <td>13.0000</td>\n",
       "      <td>S</td>\n",
       "    </tr>\n",
       "    <tr>\n",
       "      <th>887</th>\n",
       "      <td>1</td>\n",
       "      <td>1</td>\n",
       "      <td>female</td>\n",
       "      <td>19.0</td>\n",
       "      <td>0</td>\n",
       "      <td>0</td>\n",
       "      <td>30.0000</td>\n",
       "      <td>S</td>\n",
       "    </tr>\n",
       "    <tr>\n",
       "      <th>888</th>\n",
       "      <td>0</td>\n",
       "      <td>3</td>\n",
       "      <td>female</td>\n",
       "      <td>28.0</td>\n",
       "      <td>1</td>\n",
       "      <td>2</td>\n",
       "      <td>23.4500</td>\n",
       "      <td>S</td>\n",
       "    </tr>\n",
       "    <tr>\n",
       "      <th>889</th>\n",
       "      <td>1</td>\n",
       "      <td>1</td>\n",
       "      <td>male</td>\n",
       "      <td>26.0</td>\n",
       "      <td>0</td>\n",
       "      <td>0</td>\n",
       "      <td>30.0000</td>\n",
       "      <td>C</td>\n",
       "    </tr>\n",
       "    <tr>\n",
       "      <th>890</th>\n",
       "      <td>0</td>\n",
       "      <td>3</td>\n",
       "      <td>male</td>\n",
       "      <td>32.0</td>\n",
       "      <td>0</td>\n",
       "      <td>0</td>\n",
       "      <td>7.7500</td>\n",
       "      <td>Q</td>\n",
       "    </tr>\n",
       "  </tbody>\n",
       "</table>\n",
       "<p>825 rows × 8 columns</p>\n",
       "</div>"
      ],
      "text/plain": [
       "     Survived  Pclass     Sex   Age  SibSp  Parch     Fare Embarked\n",
       "0           0       3    male  22.0      1      0   7.2500        S\n",
       "1           1       1  female  38.0      1      0  71.2833        C\n",
       "2           1       3  female  26.0      0      0   7.9250        S\n",
       "3           1       1  female  35.0      1      0  53.1000        S\n",
       "4           0       3    male  35.0      0      0   8.0500        S\n",
       "..        ...     ...     ...   ...    ...    ...      ...      ...\n",
       "886         0       2    male  27.0      0      0  13.0000        S\n",
       "887         1       1  female  19.0      0      0  30.0000        S\n",
       "888         0       3  female  28.0      1      2  23.4500        S\n",
       "889         1       1    male  26.0      0      0  30.0000        C\n",
       "890         0       3    male  32.0      0      0   7.7500        Q\n",
       "\n",
       "[825 rows x 8 columns]"
      ]
     },
     "execution_count": 17,
     "metadata": {},
     "output_type": "execute_result"
    }
   ],
   "source": [
    "df_iqr"
   ]
  },
  {
   "cell_type": "code",
   "execution_count": 18,
   "metadata": {},
   "outputs": [],
   "source": [
    "df3 = df_iqr.copy()"
   ]
  },
  {
   "cell_type": "code",
   "execution_count": 19,
   "metadata": {},
   "outputs": [
    {
     "name": "stdout",
     "output_type": "stream",
     "text": [
      "<class 'pandas.core.frame.DataFrame'>\n",
      "Index: 825 entries, 0 to 890\n",
      "Data columns (total 8 columns):\n",
      " #   Column    Non-Null Count  Dtype  \n",
      "---  ------    --------------  -----  \n",
      " 0   Survived  825 non-null    int64  \n",
      " 1   Pclass    825 non-null    int64  \n",
      " 2   Sex       825 non-null    object \n",
      " 3   Age       825 non-null    float64\n",
      " 4   SibSp     825 non-null    int64  \n",
      " 5   Parch     825 non-null    int64  \n",
      " 6   Fare      825 non-null    float64\n",
      " 7   Embarked  825 non-null    object \n",
      "dtypes: float64(2), int64(4), object(2)\n",
      "memory usage: 58.0+ KB\n"
     ]
    }
   ],
   "source": [
    "df3.info()"
   ]
  },
  {
   "cell_type": "code",
   "execution_count": 20,
   "metadata": {},
   "outputs": [],
   "source": [
    "y = df3[\"Survived\"]\n",
    "x = df3.drop(\"Survived\", axis = 1)"
   ]
  },
  {
   "cell_type": "code",
   "execution_count": 21,
   "metadata": {},
   "outputs": [
    {
     "data": {
      "text/html": [
       "<div>\n",
       "<style scoped>\n",
       "    .dataframe tbody tr th:only-of-type {\n",
       "        vertical-align: middle;\n",
       "    }\n",
       "\n",
       "    .dataframe tbody tr th {\n",
       "        vertical-align: top;\n",
       "    }\n",
       "\n",
       "    .dataframe thead th {\n",
       "        text-align: right;\n",
       "    }\n",
       "</style>\n",
       "<table border=\"1\" class=\"dataframe\">\n",
       "  <thead>\n",
       "    <tr style=\"text-align: right;\">\n",
       "      <th></th>\n",
       "      <th>Pclass</th>\n",
       "      <th>Sex</th>\n",
       "      <th>Age</th>\n",
       "      <th>SibSp</th>\n",
       "      <th>Parch</th>\n",
       "      <th>Fare</th>\n",
       "      <th>Embarked</th>\n",
       "    </tr>\n",
       "  </thead>\n",
       "  <tbody>\n",
       "    <tr>\n",
       "      <th>0</th>\n",
       "      <td>3</td>\n",
       "      <td>male</td>\n",
       "      <td>22.0</td>\n",
       "      <td>1</td>\n",
       "      <td>0</td>\n",
       "      <td>7.2500</td>\n",
       "      <td>S</td>\n",
       "    </tr>\n",
       "    <tr>\n",
       "      <th>1</th>\n",
       "      <td>1</td>\n",
       "      <td>female</td>\n",
       "      <td>38.0</td>\n",
       "      <td>1</td>\n",
       "      <td>0</td>\n",
       "      <td>71.2833</td>\n",
       "      <td>C</td>\n",
       "    </tr>\n",
       "    <tr>\n",
       "      <th>2</th>\n",
       "      <td>3</td>\n",
       "      <td>female</td>\n",
       "      <td>26.0</td>\n",
       "      <td>0</td>\n",
       "      <td>0</td>\n",
       "      <td>7.9250</td>\n",
       "      <td>S</td>\n",
       "    </tr>\n",
       "    <tr>\n",
       "      <th>3</th>\n",
       "      <td>1</td>\n",
       "      <td>female</td>\n",
       "      <td>35.0</td>\n",
       "      <td>1</td>\n",
       "      <td>0</td>\n",
       "      <td>53.1000</td>\n",
       "      <td>S</td>\n",
       "    </tr>\n",
       "    <tr>\n",
       "      <th>4</th>\n",
       "      <td>3</td>\n",
       "      <td>male</td>\n",
       "      <td>35.0</td>\n",
       "      <td>0</td>\n",
       "      <td>0</td>\n",
       "      <td>8.0500</td>\n",
       "      <td>S</td>\n",
       "    </tr>\n",
       "    <tr>\n",
       "      <th>...</th>\n",
       "      <td>...</td>\n",
       "      <td>...</td>\n",
       "      <td>...</td>\n",
       "      <td>...</td>\n",
       "      <td>...</td>\n",
       "      <td>...</td>\n",
       "      <td>...</td>\n",
       "    </tr>\n",
       "    <tr>\n",
       "      <th>886</th>\n",
       "      <td>2</td>\n",
       "      <td>male</td>\n",
       "      <td>27.0</td>\n",
       "      <td>0</td>\n",
       "      <td>0</td>\n",
       "      <td>13.0000</td>\n",
       "      <td>S</td>\n",
       "    </tr>\n",
       "    <tr>\n",
       "      <th>887</th>\n",
       "      <td>1</td>\n",
       "      <td>female</td>\n",
       "      <td>19.0</td>\n",
       "      <td>0</td>\n",
       "      <td>0</td>\n",
       "      <td>30.0000</td>\n",
       "      <td>S</td>\n",
       "    </tr>\n",
       "    <tr>\n",
       "      <th>888</th>\n",
       "      <td>3</td>\n",
       "      <td>female</td>\n",
       "      <td>28.0</td>\n",
       "      <td>1</td>\n",
       "      <td>2</td>\n",
       "      <td>23.4500</td>\n",
       "      <td>S</td>\n",
       "    </tr>\n",
       "    <tr>\n",
       "      <th>889</th>\n",
       "      <td>1</td>\n",
       "      <td>male</td>\n",
       "      <td>26.0</td>\n",
       "      <td>0</td>\n",
       "      <td>0</td>\n",
       "      <td>30.0000</td>\n",
       "      <td>C</td>\n",
       "    </tr>\n",
       "    <tr>\n",
       "      <th>890</th>\n",
       "      <td>3</td>\n",
       "      <td>male</td>\n",
       "      <td>32.0</td>\n",
       "      <td>0</td>\n",
       "      <td>0</td>\n",
       "      <td>7.7500</td>\n",
       "      <td>Q</td>\n",
       "    </tr>\n",
       "  </tbody>\n",
       "</table>\n",
       "<p>825 rows × 7 columns</p>\n",
       "</div>"
      ],
      "text/plain": [
       "     Pclass     Sex   Age  SibSp  Parch     Fare Embarked\n",
       "0         3    male  22.0      1      0   7.2500        S\n",
       "1         1  female  38.0      1      0  71.2833        C\n",
       "2         3  female  26.0      0      0   7.9250        S\n",
       "3         1  female  35.0      1      0  53.1000        S\n",
       "4         3    male  35.0      0      0   8.0500        S\n",
       "..      ...     ...   ...    ...    ...      ...      ...\n",
       "886       2    male  27.0      0      0  13.0000        S\n",
       "887       1  female  19.0      0      0  30.0000        S\n",
       "888       3  female  28.0      1      2  23.4500        S\n",
       "889       1    male  26.0      0      0  30.0000        C\n",
       "890       3    male  32.0      0      0   7.7500        Q\n",
       "\n",
       "[825 rows x 7 columns]"
      ]
     },
     "execution_count": 21,
     "metadata": {},
     "output_type": "execute_result"
    }
   ],
   "source": [
    "x"
   ]
  },
  {
   "cell_type": "code",
   "execution_count": 22,
   "metadata": {},
   "outputs": [],
   "source": [
    "encode = ce.BinaryEncoder(cols= [\"Sex\", \"Embarked\"], return_df= True)\n",
    "x = encode.fit_transform(x)"
   ]
  },
  {
   "cell_type": "code",
   "execution_count": 23,
   "metadata": {},
   "outputs": [
    {
     "data": {
      "text/html": [
       "<div>\n",
       "<style scoped>\n",
       "    .dataframe tbody tr th:only-of-type {\n",
       "        vertical-align: middle;\n",
       "    }\n",
       "\n",
       "    .dataframe tbody tr th {\n",
       "        vertical-align: top;\n",
       "    }\n",
       "\n",
       "    .dataframe thead th {\n",
       "        text-align: right;\n",
       "    }\n",
       "</style>\n",
       "<table border=\"1\" class=\"dataframe\">\n",
       "  <thead>\n",
       "    <tr style=\"text-align: right;\">\n",
       "      <th></th>\n",
       "      <th>Pclass</th>\n",
       "      <th>Sex_0</th>\n",
       "      <th>Sex_1</th>\n",
       "      <th>Age</th>\n",
       "      <th>SibSp</th>\n",
       "      <th>Parch</th>\n",
       "      <th>Fare</th>\n",
       "      <th>Embarked_0</th>\n",
       "      <th>Embarked_1</th>\n",
       "    </tr>\n",
       "  </thead>\n",
       "  <tbody>\n",
       "    <tr>\n",
       "      <th>0</th>\n",
       "      <td>3</td>\n",
       "      <td>0</td>\n",
       "      <td>1</td>\n",
       "      <td>22.0</td>\n",
       "      <td>1</td>\n",
       "      <td>0</td>\n",
       "      <td>7.2500</td>\n",
       "      <td>0</td>\n",
       "      <td>1</td>\n",
       "    </tr>\n",
       "    <tr>\n",
       "      <th>1</th>\n",
       "      <td>1</td>\n",
       "      <td>1</td>\n",
       "      <td>0</td>\n",
       "      <td>38.0</td>\n",
       "      <td>1</td>\n",
       "      <td>0</td>\n",
       "      <td>71.2833</td>\n",
       "      <td>1</td>\n",
       "      <td>0</td>\n",
       "    </tr>\n",
       "    <tr>\n",
       "      <th>2</th>\n",
       "      <td>3</td>\n",
       "      <td>1</td>\n",
       "      <td>0</td>\n",
       "      <td>26.0</td>\n",
       "      <td>0</td>\n",
       "      <td>0</td>\n",
       "      <td>7.9250</td>\n",
       "      <td>0</td>\n",
       "      <td>1</td>\n",
       "    </tr>\n",
       "    <tr>\n",
       "      <th>3</th>\n",
       "      <td>1</td>\n",
       "      <td>1</td>\n",
       "      <td>0</td>\n",
       "      <td>35.0</td>\n",
       "      <td>1</td>\n",
       "      <td>0</td>\n",
       "      <td>53.1000</td>\n",
       "      <td>0</td>\n",
       "      <td>1</td>\n",
       "    </tr>\n",
       "    <tr>\n",
       "      <th>4</th>\n",
       "      <td>3</td>\n",
       "      <td>0</td>\n",
       "      <td>1</td>\n",
       "      <td>35.0</td>\n",
       "      <td>0</td>\n",
       "      <td>0</td>\n",
       "      <td>8.0500</td>\n",
       "      <td>0</td>\n",
       "      <td>1</td>\n",
       "    </tr>\n",
       "    <tr>\n",
       "      <th>...</th>\n",
       "      <td>...</td>\n",
       "      <td>...</td>\n",
       "      <td>...</td>\n",
       "      <td>...</td>\n",
       "      <td>...</td>\n",
       "      <td>...</td>\n",
       "      <td>...</td>\n",
       "      <td>...</td>\n",
       "      <td>...</td>\n",
       "    </tr>\n",
       "    <tr>\n",
       "      <th>886</th>\n",
       "      <td>2</td>\n",
       "      <td>0</td>\n",
       "      <td>1</td>\n",
       "      <td>27.0</td>\n",
       "      <td>0</td>\n",
       "      <td>0</td>\n",
       "      <td>13.0000</td>\n",
       "      <td>0</td>\n",
       "      <td>1</td>\n",
       "    </tr>\n",
       "    <tr>\n",
       "      <th>887</th>\n",
       "      <td>1</td>\n",
       "      <td>1</td>\n",
       "      <td>0</td>\n",
       "      <td>19.0</td>\n",
       "      <td>0</td>\n",
       "      <td>0</td>\n",
       "      <td>30.0000</td>\n",
       "      <td>0</td>\n",
       "      <td>1</td>\n",
       "    </tr>\n",
       "    <tr>\n",
       "      <th>888</th>\n",
       "      <td>3</td>\n",
       "      <td>1</td>\n",
       "      <td>0</td>\n",
       "      <td>28.0</td>\n",
       "      <td>1</td>\n",
       "      <td>2</td>\n",
       "      <td>23.4500</td>\n",
       "      <td>0</td>\n",
       "      <td>1</td>\n",
       "    </tr>\n",
       "    <tr>\n",
       "      <th>889</th>\n",
       "      <td>1</td>\n",
       "      <td>0</td>\n",
       "      <td>1</td>\n",
       "      <td>26.0</td>\n",
       "      <td>0</td>\n",
       "      <td>0</td>\n",
       "      <td>30.0000</td>\n",
       "      <td>1</td>\n",
       "      <td>0</td>\n",
       "    </tr>\n",
       "    <tr>\n",
       "      <th>890</th>\n",
       "      <td>3</td>\n",
       "      <td>0</td>\n",
       "      <td>1</td>\n",
       "      <td>32.0</td>\n",
       "      <td>0</td>\n",
       "      <td>0</td>\n",
       "      <td>7.7500</td>\n",
       "      <td>1</td>\n",
       "      <td>1</td>\n",
       "    </tr>\n",
       "  </tbody>\n",
       "</table>\n",
       "<p>825 rows × 9 columns</p>\n",
       "</div>"
      ],
      "text/plain": [
       "     Pclass  Sex_0  Sex_1   Age  SibSp  Parch     Fare  Embarked_0  Embarked_1\n",
       "0         3      0      1  22.0      1      0   7.2500           0           1\n",
       "1         1      1      0  38.0      1      0  71.2833           1           0\n",
       "2         3      1      0  26.0      0      0   7.9250           0           1\n",
       "3         1      1      0  35.0      1      0  53.1000           0           1\n",
       "4         3      0      1  35.0      0      0   8.0500           0           1\n",
       "..      ...    ...    ...   ...    ...    ...      ...         ...         ...\n",
       "886       2      0      1  27.0      0      0  13.0000           0           1\n",
       "887       1      1      0  19.0      0      0  30.0000           0           1\n",
       "888       3      1      0  28.0      1      2  23.4500           0           1\n",
       "889       1      0      1  26.0      0      0  30.0000           1           0\n",
       "890       3      0      1  32.0      0      0   7.7500           1           1\n",
       "\n",
       "[825 rows x 9 columns]"
      ]
     },
     "execution_count": 23,
     "metadata": {},
     "output_type": "execute_result"
    }
   ],
   "source": [
    "x"
   ]
  },
  {
   "cell_type": "code",
   "execution_count": 24,
   "metadata": {},
   "outputs": [],
   "source": [
    "from sklearn.preprocessing import LabelEncoder\n",
    "label_encode = LabelEncoder()\n",
    "label_encode.fit(y)\n",
    "y = label_encode.transform(y)"
   ]
  },
  {
   "cell_type": "code",
   "execution_count": 25,
   "metadata": {},
   "outputs": [
    {
     "data": {
      "text/plain": [
       "((825, 9), (825,))"
      ]
     },
     "execution_count": 25,
     "metadata": {},
     "output_type": "execute_result"
    }
   ],
   "source": [
    "x.shape, y.shape"
   ]
  },
  {
   "cell_type": "code",
   "execution_count": 26,
   "metadata": {},
   "outputs": [],
   "source": [
    "from sklearn.preprocessing import StandardScaler, MinMaxScaler\n",
    "sc = StandardScaler()\n",
    "sc.fit(x)\n",
    "x = sc.transform(x)"
   ]
  },
  {
   "cell_type": "code",
   "execution_count": 27,
   "metadata": {},
   "outputs": [
    {
     "data": {
      "text/plain": [
       "array([[ 0.79915529, -0.7440916 ,  0.7440916 , ..., -0.48538929,\n",
       "        -0.61237244,  0.47524139],\n",
       "       [-1.62921714,  1.34392055, -1.34392055, ...,  0.79717122,\n",
       "         1.63299316, -2.10419381],\n",
       "       [ 0.79915529,  1.34392055, -1.34392055, ..., -0.47186932,\n",
       "        -0.61237244,  0.47524139],\n",
       "       ...,\n",
       "       [ 0.79915529,  1.34392055, -1.34392055, ..., -0.16090999,\n",
       "        -0.61237244,  0.47524139],\n",
       "       [-1.62921714, -0.7440916 ,  0.7440916 , ..., -0.0297162 ,\n",
       "         1.63299316, -2.10419381],\n",
       "       [ 0.79915529, -0.7440916 ,  0.7440916 , ..., -0.4753745 ,\n",
       "         1.63299316,  0.47524139]])"
      ]
     },
     "execution_count": 27,
     "metadata": {},
     "output_type": "execute_result"
    }
   ],
   "source": [
    "x"
   ]
  },
  {
   "cell_type": "code",
   "execution_count": 28,
   "metadata": {},
   "outputs": [],
   "source": [
    "from sklearn.model_selection import train_test_split\n",
    "x_train, x_val_test, y_train, y_val_test = train_test_split(x, y, test_size= 0.2, random_state= 42, shuffle= True, stratify= y)\n",
    "x_test, x_val, y_test, y_val = train_test_split(x_val_test, y_val_test, test_size= 0.5, random_state= 42, stratify= y_val_test)"
   ]
  },
  {
   "cell_type": "code",
   "execution_count": 29,
   "metadata": {},
   "outputs": [
    {
     "data": {
      "text/plain": [
       "((660, 9), (83, 9), (82, 9))"
      ]
     },
     "execution_count": 29,
     "metadata": {},
     "output_type": "execute_result"
    }
   ],
   "source": [
    "x_train.shape, x_val.shape, x_test.shape"
   ]
  },
  {
   "cell_type": "code",
   "execution_count": 30,
   "metadata": {},
   "outputs": [
    {
     "data": {
      "text/plain": [
       "((660,), (83,), (82,))"
      ]
     },
     "execution_count": 30,
     "metadata": {},
     "output_type": "execute_result"
    }
   ],
   "source": [
    "y_train.shape, y_val.shape, y_test.shape"
   ]
  },
  {
   "cell_type": "code",
   "execution_count": 31,
   "metadata": {},
   "outputs": [],
   "source": [
    "import numpy as np\n",
    "import pandas as pd\n",
    "import tensorflow as tf\n",
    "from matplotlib import pyplot\n",
    "# import tensorflow_addons as tfa\n",
    "from tensorflow.keras import Model\n",
    "from tensorflow.keras import Sequential\n",
    "from tensorflow.keras.models import Sequential, Model\n",
    "from tensorflow.keras.layers import Conv2D, Input, Dropout, Activation, Dense, MaxPooling2D, Flatten, GlobalAveragePooling2D\n",
    "from tensorflow.keras.optimizers import Adadelta\n",
    "from tensorflow.keras.callbacks import ModelCheckpoint\n",
    "from tensorflow.keras.layers import Dense\n",
    "from tensorflow.keras.layers import LSTM\n",
    "import sklearn\n",
    "from tensorflow.keras.layers import BatchNormalization\n",
    "from sklearn.preprocessing import MinMaxScaler\n",
    "from keras.callbacks import ReduceLROnPlateau, EarlyStopping, ModelCheckpoint\n",
    "from sklearn.model_selection import train_test_split\n",
    "\n",
    "# from focal_loss import SparseCategoricalFocalLoss, sparse_categorical_focal_loss\n",
    "# Xử lý lại chia train test với tấn công nhỏ\n",
    "\n",
    "from tensorflow.keras import layers\n",
    "from tensorflow.keras import regularizers\n",
    "\n",
    "from datetime import datetime\n",
    "from keras.regularizers import l2"
   ]
  },
  {
   "cell_type": "code",
   "execution_count": 32,
   "metadata": {},
   "outputs": [],
   "source": [
    "model = Sequential()\n",
    "#model.add(Dense(32, activation= \"relu\"))\n",
    "model.add(Dense(8, activation= \"sigmoid\"))\n",
    "model.add(Dense(4, activation= \"sigmoid\"))\n",
    "model.add(Dense(1, activation= \"sigmoid\"))"
   ]
  },
  {
   "cell_type": "code",
   "execution_count": 33,
   "metadata": {},
   "outputs": [],
   "source": [
    "model.compile(loss='binary_crossentropy', optimizer='adam', metrics=['accuracy'])"
   ]
  },
  {
   "cell_type": "code",
   "execution_count": 34,
   "metadata": {},
   "outputs": [
    {
     "name": "stdout",
     "output_type": "stream",
     "text": [
      "program start...\n",
      "Epoch 1/100\n",
      "660/660 [==============================] - 4s 3ms/step - loss: 0.6536 - accuracy: 0.6197 - val_loss: 0.6200 - val_accuracy: 0.6145\n",
      "Epoch 2/100\n",
      "660/660 [==============================] - 2s 3ms/step - loss: 0.5830 - accuracy: 0.6939 - val_loss: 0.5408 - val_accuracy: 0.8434\n",
      "Epoch 3/100\n",
      "660/660 [==============================] - 2s 3ms/step - loss: 0.5209 - accuracy: 0.8045 - val_loss: 0.4970 - val_accuracy: 0.8193\n",
      "Epoch 4/100\n",
      "660/660 [==============================] - 2s 3ms/step - loss: 0.4902 - accuracy: 0.7939 - val_loss: 0.4756 - val_accuracy: 0.8434\n",
      "Epoch 5/100\n",
      "660/660 [==============================] - 2s 3ms/step - loss: 0.4735 - accuracy: 0.7955 - val_loss: 0.4677 - val_accuracy: 0.8313\n",
      "Epoch 6/100\n",
      "660/660 [==============================] - 2s 3ms/step - loss: 0.4635 - accuracy: 0.7970 - val_loss: 0.4599 - val_accuracy: 0.8313\n",
      "Epoch 7/100\n",
      "660/660 [==============================] - 2s 3ms/step - loss: 0.4564 - accuracy: 0.8015 - val_loss: 0.4559 - val_accuracy: 0.8313\n",
      "Epoch 8/100\n",
      "660/660 [==============================] - 2s 3ms/step - loss: 0.4513 - accuracy: 0.8000 - val_loss: 0.4551 - val_accuracy: 0.8313\n",
      "Epoch 9/100\n",
      "660/660 [==============================] - 2s 3ms/step - loss: 0.4468 - accuracy: 0.8030 - val_loss: 0.4530 - val_accuracy: 0.8193\n",
      "Epoch 10/100\n",
      "660/660 [==============================] - 2s 3ms/step - loss: 0.4433 - accuracy: 0.7970 - val_loss: 0.4525 - val_accuracy: 0.8072\n",
      "Epoch 11/100\n",
      "660/660 [==============================] - 2s 3ms/step - loss: 0.4405 - accuracy: 0.8061 - val_loss: 0.4465 - val_accuracy: 0.8072\n",
      "Epoch 12/100\n",
      "660/660 [==============================] - 2s 3ms/step - loss: 0.4373 - accuracy: 0.8030 - val_loss: 0.4465 - val_accuracy: 0.8072\n",
      "Epoch 13/100\n",
      "660/660 [==============================] - 2s 3ms/step - loss: 0.4349 - accuracy: 0.8076 - val_loss: 0.4422 - val_accuracy: 0.8313\n",
      "Epoch 14/100\n",
      "660/660 [==============================] - 2s 3ms/step - loss: 0.4330 - accuracy: 0.8076 - val_loss: 0.4428 - val_accuracy: 0.8193\n",
      "Epoch 15/100\n",
      "660/660 [==============================] - 2s 3ms/step - loss: 0.4314 - accuracy: 0.8121 - val_loss: 0.4372 - val_accuracy: 0.8313\n",
      "Epoch 16/100\n",
      "660/660 [==============================] - 2s 3ms/step - loss: 0.4289 - accuracy: 0.8015 - val_loss: 0.4335 - val_accuracy: 0.8434\n",
      "Epoch 17/100\n",
      "660/660 [==============================] - 2s 3ms/step - loss: 0.4278 - accuracy: 0.8091 - val_loss: 0.4310 - val_accuracy: 0.8313\n",
      "Epoch 18/100\n",
      "660/660 [==============================] - 2s 3ms/step - loss: 0.4263 - accuracy: 0.8061 - val_loss: 0.4311 - val_accuracy: 0.8313\n",
      "Epoch 19/100\n",
      "660/660 [==============================] - 2s 3ms/step - loss: 0.4247 - accuracy: 0.8076 - val_loss: 0.4277 - val_accuracy: 0.8313\n",
      "Epoch 20/100\n",
      "660/660 [==============================] - 2s 3ms/step - loss: 0.4233 - accuracy: 0.8045 - val_loss: 0.4278 - val_accuracy: 0.8313\n",
      "Epoch 21/100\n",
      "660/660 [==============================] - 2s 3ms/step - loss: 0.4224 - accuracy: 0.8076 - val_loss: 0.4261 - val_accuracy: 0.8313\n",
      "Epoch 22/100\n",
      "660/660 [==============================] - 2s 3ms/step - loss: 0.4219 - accuracy: 0.8076 - val_loss: 0.4263 - val_accuracy: 0.8313\n",
      "Epoch 23/100\n",
      "660/660 [==============================] - 2s 3ms/step - loss: 0.4196 - accuracy: 0.8061 - val_loss: 0.4304 - val_accuracy: 0.8313\n",
      "Epoch 24/100\n",
      "660/660 [==============================] - 2s 3ms/step - loss: 0.4189 - accuracy: 0.8106 - val_loss: 0.4220 - val_accuracy: 0.8313\n",
      "Epoch 25/100\n",
      "660/660 [==============================] - 2s 3ms/step - loss: 0.4186 - accuracy: 0.8121 - val_loss: 0.4232 - val_accuracy: 0.8313\n",
      "Epoch 26/100\n",
      "660/660 [==============================] - 1s 2ms/step - loss: 0.4172 - accuracy: 0.8045 - val_loss: 0.4235 - val_accuracy: 0.8313\n",
      "Epoch 27/100\n",
      "660/660 [==============================] - 1s 1ms/step - loss: 0.4164 - accuracy: 0.8152 - val_loss: 0.4213 - val_accuracy: 0.8313\n",
      "Epoch 28/100\n",
      "660/660 [==============================] - 1s 1ms/step - loss: 0.4162 - accuracy: 0.8106 - val_loss: 0.4207 - val_accuracy: 0.8554\n",
      "Epoch 29/100\n",
      "660/660 [==============================] - 1s 893us/step - loss: 0.4156 - accuracy: 0.8091 - val_loss: 0.4232 - val_accuracy: 0.8193\n",
      "Epoch 30/100\n",
      "660/660 [==============================] - 1s 931us/step - loss: 0.4151 - accuracy: 0.8106 - val_loss: 0.4164 - val_accuracy: 0.8313\n",
      "Epoch 31/100\n",
      "660/660 [==============================] - 1s 989us/step - loss: 0.4144 - accuracy: 0.8106 - val_loss: 0.4203 - val_accuracy: 0.8313\n",
      "Epoch 32/100\n",
      "660/660 [==============================] - 1s 1ms/step - loss: 0.4143 - accuracy: 0.8000 - val_loss: 0.4208 - val_accuracy: 0.8313\n",
      "Epoch 33/100\n",
      "660/660 [==============================] - 1s 961us/step - loss: 0.4137 - accuracy: 0.8015 - val_loss: 0.4186 - val_accuracy: 0.8313\n",
      "Epoch 34/100\n",
      "660/660 [==============================] - 1s 1ms/step - loss: 0.4131 - accuracy: 0.8045 - val_loss: 0.4169 - val_accuracy: 0.8313\n",
      "Epoch 35/100\n",
      "660/660 [==============================] - 1s 1ms/step - loss: 0.4123 - accuracy: 0.8136 - val_loss: 0.4171 - val_accuracy: 0.8313\n",
      "Epoch 36/100\n",
      "660/660 [==============================] - 1s 991us/step - loss: 0.4120 - accuracy: 0.8136 - val_loss: 0.4191 - val_accuracy: 0.8313\n",
      "Epoch 37/100\n",
      "660/660 [==============================] - 1s 1ms/step - loss: 0.4119 - accuracy: 0.8121 - val_loss: 0.4180 - val_accuracy: 0.8313\n",
      "Epoch 38/100\n",
      "660/660 [==============================] - 1s 1ms/step - loss: 0.4118 - accuracy: 0.8121 - val_loss: 0.4134 - val_accuracy: 0.8554\n",
      "Epoch 39/100\n",
      "660/660 [==============================] - 1s 1ms/step - loss: 0.4112 - accuracy: 0.8136 - val_loss: 0.4149 - val_accuracy: 0.8434\n",
      "Epoch 40/100\n",
      "660/660 [==============================] - 1s 1ms/step - loss: 0.4101 - accuracy: 0.8121 - val_loss: 0.4140 - val_accuracy: 0.8554\n",
      "Epoch 41/100\n",
      "660/660 [==============================] - 1s 1ms/step - loss: 0.4101 - accuracy: 0.8061 - val_loss: 0.4109 - val_accuracy: 0.8795\n",
      "Epoch 42/100\n",
      "660/660 [==============================] - 1s 1ms/step - loss: 0.4096 - accuracy: 0.8167 - val_loss: 0.4145 - val_accuracy: 0.8313\n",
      "Epoch 43/100\n",
      "660/660 [==============================] - 1s 1ms/step - loss: 0.4095 - accuracy: 0.8061 - val_loss: 0.4115 - val_accuracy: 0.8675\n",
      "Epoch 44/100\n",
      "660/660 [==============================] - 1s 1ms/step - loss: 0.4090 - accuracy: 0.8076 - val_loss: 0.4081 - val_accuracy: 0.8795\n",
      "Epoch 45/100\n",
      "660/660 [==============================] - 1s 1ms/step - loss: 0.4086 - accuracy: 0.8136 - val_loss: 0.4115 - val_accuracy: 0.8313\n",
      "Epoch 46/100\n",
      "660/660 [==============================] - 1s 1ms/step - loss: 0.4084 - accuracy: 0.8091 - val_loss: 0.4094 - val_accuracy: 0.8554\n",
      "Epoch 47/100\n",
      "660/660 [==============================] - 1s 1ms/step - loss: 0.4081 - accuracy: 0.8242 - val_loss: 0.4143 - val_accuracy: 0.8434\n",
      "Epoch 48/100\n",
      "660/660 [==============================] - 1s 954us/step - loss: 0.4072 - accuracy: 0.8106 - val_loss: 0.4106 - val_accuracy: 0.8554\n",
      "Epoch 49/100\n",
      "660/660 [==============================] - 1s 1ms/step - loss: 0.4078 - accuracy: 0.8106 - val_loss: 0.4100 - val_accuracy: 0.8675\n",
      "Epoch 50/100\n",
      "660/660 [==============================] - 1s 999us/step - loss: 0.4068 - accuracy: 0.8091 - val_loss: 0.4133 - val_accuracy: 0.8313\n",
      "Epoch 51/100\n",
      "660/660 [==============================] - 1s 987us/step - loss: 0.4071 - accuracy: 0.8121 - val_loss: 0.4145 - val_accuracy: 0.8313\n",
      "Epoch 52/100\n",
      "660/660 [==============================] - 1s 962us/step - loss: 0.4064 - accuracy: 0.8106 - val_loss: 0.4059 - val_accuracy: 0.8795\n",
      "Epoch 53/100\n",
      "660/660 [==============================] - 1s 962us/step - loss: 0.4068 - accuracy: 0.8227 - val_loss: 0.4096 - val_accuracy: 0.8675\n",
      "Epoch 54/100\n",
      "660/660 [==============================] - 1s 993us/step - loss: 0.4056 - accuracy: 0.8212 - val_loss: 0.4059 - val_accuracy: 0.8916\n",
      "Epoch 55/100\n",
      "660/660 [==============================] - 1s 999us/step - loss: 0.4060 - accuracy: 0.8197 - val_loss: 0.4102 - val_accuracy: 0.8675\n",
      "Epoch 56/100\n",
      "660/660 [==============================] - 1s 939us/step - loss: 0.4055 - accuracy: 0.8106 - val_loss: 0.4114 - val_accuracy: 0.8554\n",
      "Epoch 57/100\n",
      "660/660 [==============================] - 1s 1ms/step - loss: 0.4045 - accuracy: 0.8121 - val_loss: 0.4050 - val_accuracy: 0.8675\n",
      "Epoch 58/100\n",
      "660/660 [==============================] - 1s 934us/step - loss: 0.4051 - accuracy: 0.8242 - val_loss: 0.4120 - val_accuracy: 0.8434\n",
      "Epoch 59/100\n",
      "660/660 [==============================] - 1s 930us/step - loss: 0.4045 - accuracy: 0.8152 - val_loss: 0.4085 - val_accuracy: 0.8675\n",
      "Epoch 60/100\n",
      "660/660 [==============================] - 1s 1ms/step - loss: 0.4046 - accuracy: 0.8197 - val_loss: 0.4122 - val_accuracy: 0.8675\n",
      "Epoch 61/100\n",
      "660/660 [==============================] - 1s 1ms/step - loss: 0.4037 - accuracy: 0.8197 - val_loss: 0.4120 - val_accuracy: 0.8675\n",
      "Epoch 62/100\n",
      "660/660 [==============================] - 1s 1ms/step - loss: 0.4035 - accuracy: 0.8136 - val_loss: 0.4114 - val_accuracy: 0.8675\n",
      "Epoch 63/100\n",
      "660/660 [==============================] - 1s 948us/step - loss: 0.4037 - accuracy: 0.8197 - val_loss: 0.4125 - val_accuracy: 0.8675\n",
      "Epoch 64/100\n",
      "660/660 [==============================] - 1s 936us/step - loss: 0.4033 - accuracy: 0.8242 - val_loss: 0.4134 - val_accuracy: 0.8675\n",
      "Epoch 65/100\n",
      "660/660 [==============================] - 1s 1ms/step - loss: 0.4030 - accuracy: 0.8242 - val_loss: 0.4131 - val_accuracy: 0.8675\n",
      "Epoch 66/100\n",
      "660/660 [==============================] - 1s 1ms/step - loss: 0.4024 - accuracy: 0.8212 - val_loss: 0.4136 - val_accuracy: 0.8675\n",
      "Epoch 67/100\n",
      "660/660 [==============================] - 1s 1ms/step - loss: 0.4027 - accuracy: 0.8288 - val_loss: 0.4120 - val_accuracy: 0.8675\n",
      "Epoch 68/100\n",
      "660/660 [==============================] - 1s 1ms/step - loss: 0.4027 - accuracy: 0.8242 - val_loss: 0.4117 - val_accuracy: 0.8675\n",
      "Epoch 69/100\n",
      "660/660 [==============================] - 1s 956us/step - loss: 0.4025 - accuracy: 0.8258 - val_loss: 0.4121 - val_accuracy: 0.8554\n",
      "Epoch 70/100\n",
      "660/660 [==============================] - 1s 1ms/step - loss: 0.4020 - accuracy: 0.8273 - val_loss: 0.4139 - val_accuracy: 0.8675\n",
      "Epoch 71/100\n",
      "660/660 [==============================] - 1s 916us/step - loss: 0.4018 - accuracy: 0.8227 - val_loss: 0.4141 - val_accuracy: 0.8675\n",
      "Epoch 72/100\n",
      "660/660 [==============================] - 1s 959us/step - loss: 0.4011 - accuracy: 0.8197 - val_loss: 0.4145 - val_accuracy: 0.8675\n",
      "Epoch 73/100\n",
      "660/660 [==============================] - 1s 959us/step - loss: 0.4013 - accuracy: 0.8167 - val_loss: 0.4100 - val_accuracy: 0.8675\n",
      "Epoch 74/100\n",
      "660/660 [==============================] - 1s 957us/step - loss: 0.4015 - accuracy: 0.8258 - val_loss: 0.4136 - val_accuracy: 0.8675\n",
      "Epoch 75/100\n",
      "660/660 [==============================] - 1s 1ms/step - loss: 0.4011 - accuracy: 0.8212 - val_loss: 0.4138 - val_accuracy: 0.8675\n",
      "Epoch 76/100\n",
      "660/660 [==============================] - 1s 1ms/step - loss: 0.4008 - accuracy: 0.8288 - val_loss: 0.4137 - val_accuracy: 0.8675\n",
      "Epoch 77/100\n",
      "660/660 [==============================] - 1s 1ms/step - loss: 0.4008 - accuracy: 0.8258 - val_loss: 0.4139 - val_accuracy: 0.8675\n",
      "Epoch 78/100\n",
      "660/660 [==============================] - 1s 934us/step - loss: 0.4005 - accuracy: 0.8242 - val_loss: 0.4157 - val_accuracy: 0.8675\n",
      "Epoch 79/100\n",
      "660/660 [==============================] - 1s 1ms/step - loss: 0.3999 - accuracy: 0.8273 - val_loss: 0.4107 - val_accuracy: 0.8675\n",
      "Epoch 80/100\n",
      "660/660 [==============================] - 1s 933us/step - loss: 0.4003 - accuracy: 0.8258 - val_loss: 0.4110 - val_accuracy: 0.8675\n",
      "Epoch 81/100\n",
      "660/660 [==============================] - 1s 965us/step - loss: 0.3992 - accuracy: 0.8273 - val_loss: 0.4150 - val_accuracy: 0.8675\n",
      "Epoch 82/100\n",
      "660/660 [==============================] - 1s 1ms/step - loss: 0.3997 - accuracy: 0.8227 - val_loss: 0.4135 - val_accuracy: 0.8675\n",
      "Epoch 83/100\n",
      "660/660 [==============================] - 1s 1ms/step - loss: 0.3995 - accuracy: 0.8273 - val_loss: 0.4146 - val_accuracy: 0.8554\n",
      "Epoch 84/100\n",
      "660/660 [==============================] - 1s 1ms/step - loss: 0.3993 - accuracy: 0.8212 - val_loss: 0.4139 - val_accuracy: 0.8554\n",
      "Epoch 85/100\n",
      "660/660 [==============================] - 1s 1ms/step - loss: 0.3993 - accuracy: 0.8273 - val_loss: 0.4173 - val_accuracy: 0.8554\n",
      "Epoch 86/100\n",
      "660/660 [==============================] - 1s 1ms/step - loss: 0.3997 - accuracy: 0.8242 - val_loss: 0.4136 - val_accuracy: 0.8675\n",
      "Epoch 87/100\n",
      "660/660 [==============================] - 1s 1ms/step - loss: 0.3987 - accuracy: 0.8333 - val_loss: 0.4145 - val_accuracy: 0.8554\n",
      "Epoch 88/100\n",
      "660/660 [==============================] - 1s 1ms/step - loss: 0.3982 - accuracy: 0.8273 - val_loss: 0.4094 - val_accuracy: 0.8795\n",
      "Epoch 89/100\n",
      "660/660 [==============================] - 1s 1ms/step - loss: 0.3982 - accuracy: 0.8242 - val_loss: 0.4095 - val_accuracy: 0.8795\n",
      "Epoch 90/100\n",
      "660/660 [==============================] - 1s 1ms/step - loss: 0.3985 - accuracy: 0.8242 - val_loss: 0.4091 - val_accuracy: 0.8795\n",
      "Epoch 91/100\n",
      "660/660 [==============================] - 1s 1ms/step - loss: 0.3980 - accuracy: 0.8303 - val_loss: 0.4168 - val_accuracy: 0.8554\n",
      "Epoch 92/100\n",
      "660/660 [==============================] - 1s 1ms/step - loss: 0.3977 - accuracy: 0.8242 - val_loss: 0.4160 - val_accuracy: 0.8554\n",
      "Epoch 93/100\n",
      "660/660 [==============================] - 1s 1ms/step - loss: 0.3978 - accuracy: 0.8212 - val_loss: 0.4117 - val_accuracy: 0.8675\n",
      "Epoch 94/100\n",
      "660/660 [==============================] - 1s 1ms/step - loss: 0.3975 - accuracy: 0.8242 - val_loss: 0.4121 - val_accuracy: 0.8675\n",
      "Epoch 95/100\n",
      "660/660 [==============================] - 1s 1ms/step - loss: 0.3977 - accuracy: 0.8227 - val_loss: 0.4165 - val_accuracy: 0.8675\n",
      "Epoch 96/100\n",
      "660/660 [==============================] - 1s 1ms/step - loss: 0.3968 - accuracy: 0.8288 - val_loss: 0.4126 - val_accuracy: 0.8675\n",
      "Epoch 97/100\n",
      "660/660 [==============================] - 1s 1ms/step - loss: 0.3973 - accuracy: 0.8242 - val_loss: 0.4147 - val_accuracy: 0.8675\n",
      "Epoch 98/100\n",
      "660/660 [==============================] - 1s 1ms/step - loss: 0.3977 - accuracy: 0.8242 - val_loss: 0.4166 - val_accuracy: 0.8554\n",
      "Epoch 99/100\n",
      "660/660 [==============================] - 1s 1ms/step - loss: 0.3968 - accuracy: 0.8258 - val_loss: 0.4169 - val_accuracy: 0.8675\n",
      "Epoch 100/100\n",
      "660/660 [==============================] - 1s 1ms/step - loss: 0.3969 - accuracy: 0.8303 - val_loss: 0.4216 - val_accuracy: 0.8554\n",
      "program end...\n",
      "\n",
      "time cost: \n",
      "102.48666834831238 seconds\n"
     ]
    }
   ],
   "source": [
    "#fit model\n",
    "import time\n",
    "start = time.time()\n",
    "print('program start...')\n",
    "\n",
    "history = model.fit(x_train, y_train, epochs = 100, batch_size = 1,validation_data= (x_val, y_val),verbose=1)\n",
    "\n",
    "#time\n",
    "end = time.time()\n",
    "print('program end...')\n",
    "print()\n",
    "print('time cost: ')\n",
    "print(end - start, 'seconds')\n",
    "\n",
    "#  \"Accuracy\"\n"
   ]
  },
  {
   "cell_type": "code",
   "execution_count": 35,
   "metadata": {},
   "outputs": [
    {
     "data": {
      "image/png": "[encoded data removed]",
      "text/plain": [
       "<Figure size 640x480 with 1 Axes>"
      ]
     },
     "metadata": {},
     "output_type": "display_data"
    },
    {
     "data": {
      "image/png": "[encoded data removed]",
      "text/plain": [
       "<Figure size 640x480 with 1 Axes>"
      ]
     },
     "metadata": {},
     "output_type": "display_data"
    }
   ],
   "source": [
    "plt.plot(history.history['accuracy'])\n",
    "plt.plot(history.history['val_accuracy'])\n",
    "plt.title('model accuracy')\n",
    "plt.ylabel('accuracy')\n",
    "plt.xlabel('epoch')\n",
    "plt.legend(['train', 'val'], loc='upper left')\n",
    "plt.show()\n",
    "# \"Loss\"\n",
    "plt.plot(history.history['loss'])\n",
    "plt.plot(history.history['val_loss'])\n",
    "plt.title('model loss')\n",
    "plt.ylabel('loss')\n",
    "plt.xlabel('epoch')\n",
    "plt.legend(['train', 'val'], loc='upper left')\n",
    "plt.show()"
   ]
  },
  {
   "cell_type": "code",
   "execution_count": 36,
   "metadata": {},
   "outputs": [],
   "source": [
    "from sklearn.metrics import accuracy_score, precision_recall_fscore_support,confusion_matrix, classification_report, precision_score, recall_score\n",
    "from sklearn.metrics import f1_score as f1_score_rep"
   ]
  },
  {
   "cell_type": "code",
   "execution_count": 37,
   "metadata": {},
   "outputs": [
    {
     "name": "stdout",
     "output_type": "stream",
     "text": [
      "3/3 [==============================] - 0s 0s/step\n"
     ]
    }
   ],
   "source": [
    "y_pred = model.predict(x_test).reshape(-1,)"
   ]
  },
  {
   "cell_type": "code",
   "execution_count": 38,
   "metadata": {},
   "outputs": [],
   "source": [
    "y_pred = np.array(y_pred, dtype='int32')"
   ]
  },
  {
   "cell_type": "code",
   "execution_count": 39,
   "metadata": {},
   "outputs": [
    {
     "data": {
      "text/plain": [
       "array([0, 0, 0, 0, 0, 0, 0, 0, 0, 0, 0, 0, 0, 0, 0, 0, 0, 0, 0, 0, 0, 0,\n",
       "       0, 0, 0, 0, 0, 0, 0, 0, 0, 0, 0, 0, 0, 0, 0, 0, 0, 0, 0, 0, 0, 0,\n",
       "       0, 0, 0, 0, 0, 0, 0, 0, 0, 0, 0, 0, 0, 0, 0, 0, 0, 0, 0, 0, 0, 0,\n",
       "       0, 0, 0, 0, 0, 0, 0, 0, 0, 0, 0, 0, 0, 0, 0, 0])"
      ]
     },
     "execution_count": 39,
     "metadata": {},
     "output_type": "execute_result"
    }
   ],
   "source": [
    "y_pred"
   ]
  },
  {
   "cell_type": "code",
   "execution_count": 40,
   "metadata": {},
   "outputs": [
    {
     "data": {
      "text/plain": [
       "0.6219512195121951"
      ]
     },
     "execution_count": 40,
     "metadata": {},
     "output_type": "execute_result"
    }
   ],
   "source": [
    "accuracy_score(y_test, y_pred)   "
   ]
  },
  {
   "cell_type": "code",
   "execution_count": 43,
   "metadata": {},
   "outputs": [
    {
     "name": "stderr",
     "output_type": "stream",
     "text": [
      "c:\\Users\\ducth\\anaconda3\\envs\\iot\\Lib\\site-packages\\sklearn\\metrics\\_classification.py:1344: UndefinedMetricWarning: Precision is ill-defined and being set to 0.0 due to no predicted samples. Use `zero_division` parameter to control this behavior.\n",
      "  _warn_prf(average, modifier, msg_start, len(result))\n"
     ]
    },
    {
     "data": {
      "text/plain": [
       "0.0"
      ]
     },
     "execution_count": 43,
     "metadata": {},
     "output_type": "execute_result"
    }
   ],
   "source": [
    "precision_score(y_test, y_pred)"
   ]
  }
 ],
 "metadata": {
  "kernelspec": {
   "display_name": "iot",
   "language": "python",
   "name": "python3"
  },
  "language_info": {
   "codemirror_mode": {
    "name": "ipython",
    "version": 3
   },
   "file_extension": ".py",
   "mimetype": "text/x-python",
   "name": "python",
   "nbconvert_exporter": "python",
   "pygments_lexer": "ipython3",
   "version": "3.11.5"
  }
 },
 "nbformat": 4,
 "nbformat_minor": 2
}
